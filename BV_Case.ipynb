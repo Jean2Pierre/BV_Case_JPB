{
  "cells": [
    {
      "cell_type": "markdown",
      "metadata": {
        "id": "view-in-github",
        "colab_type": "text"
      },
      "source": [
        "<a href=\"https://colab.research.google.com/github/Jean2Pierre/BV_Case_JPB/blob/main/BV_Case.ipynb\" target=\"_parent\"><img src=\"https://colab.research.google.com/assets/colab-badge.svg\" alt=\"Open In Colab\"/></a>"
      ]
    },
    {
      "cell_type": "markdown",
      "metadata": {
        "id": "jzOHV3PofCYQ"
      },
      "source": [
        "1.0 Before going any further, let's get the permissions and data from Google Drive ⬆ \n",
        "\n",
        "---\n",
        "\n"
      ]
    },
    {
      "cell_type": "code",
      "execution_count": null,
      "metadata": {
        "id": "nUafAADZce1Z"
      },
      "outputs": [],
      "source": [
        "# 1.1 Get Google Colab permission to import data from Google Drive\n",
        "from google.colab import drive\n",
        "drive.mount('/content/gdrive')\n",
        "\n",
        "# 1.2 Importing pandas to help us deal with data and dataframes\n",
        "import pandas as pd\n",
        "\n",
        "# 1.3 Importing SQL to help us handle data and specially sqldf to to give us a hand transforming sql queries into dataframes\n",
        "!pip install -U pandasql\n",
        "import pandasql as ps\n",
        "from pandasql import sqldf\n"
      ]
    },
    {
      "cell_type": "markdown",
      "metadata": {
        "id": "DsxbptoSTKBH"
      },
      "source": [
        "2.0 Now... it's time to bring the data in...\n",
        "\n",
        "---\n",
        "\n"
      ]
    },
    {
      "cell_type": "code",
      "execution_count": 2,
      "metadata": {
        "id": "qru0y3dVgSpz"
      },
      "outputs": [],
      "source": [
        "# 2.1 Time to bring the data in...\n",
        "\n",
        "df_country = pd.read_csv('/content/gdrive/MyDrive/BV_database/Bases/Country.csv', sep=';')\n",
        "df_region = pd.read_csv('/content/gdrive/MyDrive/BV_database/Bases/Region.csv', sep=';')\n",
        "df_type = pd.read_csv('/content/gdrive/MyDrive/BV_database/Bases/Type.csv', sep=';')\n",
        "df_exportacao = pd.read_csv('/content/gdrive/MyDrive/BV_database/Bases/Exportacao.csv', sep=';')\n"
      ]
    },
    {
      "cell_type": "markdown",
      "metadata": {
        "id": "VNcSbKb7GDvI"
      },
      "source": [
        "3.0 Data cleanning, formatting and organizing \n",
        "\n",
        "---\n",
        "\n"
      ]
    },
    {
      "cell_type": "code",
      "execution_count": null,
      "metadata": {
        "id": "tSWVX3v5SZYO"
      },
      "outputs": [],
      "source": [
        "# 3.1 Checking for Null Values on df_country dataframe\n",
        "\n",
        "df_country.isna().sum()"
      ]
    },
    {
      "cell_type": "code",
      "execution_count": null,
      "metadata": {
        "id": "AiC-fYumStGT"
      },
      "outputs": [],
      "source": [
        "# 3.2 Checking for Null Values on df_region dataframe\n",
        "\n",
        "df_region.isna().sum()"
      ]
    },
    {
      "cell_type": "code",
      "execution_count": null,
      "metadata": {
        "id": "sJHl4SlHSzVX"
      },
      "outputs": [],
      "source": [
        "# 3.3 Checking for Null Values on df_type dataframe\n",
        "\n",
        "df_type.isna().sum()"
      ]
    },
    {
      "cell_type": "code",
      "execution_count": null,
      "metadata": {
        "id": "QlaiEzFHS44O"
      },
      "outputs": [],
      "source": [
        "# 3.4 Checking for Null Values on df_exportacao dataframe\n",
        "\n",
        "df_exportacao.isna().sum()"
      ]
    },
    {
      "cell_type": "code",
      "execution_count": null,
      "metadata": {
        "id": "iJdFCT9-VBUj"
      },
      "outputs": [],
      "source": [
        "# 3.5 Checking data type - df_country dataframe\n",
        "\n",
        "df_country.info()"
      ]
    },
    {
      "cell_type": "code",
      "execution_count": null,
      "metadata": {
        "id": "xTgdcoEhVZxp"
      },
      "outputs": [],
      "source": [
        "# 3.6 Checking data type - df_region dataframe\n",
        "\n",
        "df_region.info()"
      ]
    },
    {
      "cell_type": "code",
      "execution_count": null,
      "metadata": {
        "id": "inYopfZZVwFs"
      },
      "outputs": [],
      "source": [
        "# 3.7 Checking data tye - df_type dataframe\n",
        "\n",
        "df_type.info()"
      ]
    },
    {
      "cell_type": "code",
      "execution_count": null,
      "metadata": {
        "id": "vO3qLSDbV4TD"
      },
      "outputs": [],
      "source": [
        "# 3.8 Checking data tye - df_exportacao dataframe\n",
        "\n",
        "df_exportacao.info()"
      ]
    },
    {
      "cell_type": "code",
      "execution_count": null,
      "metadata": {
        "id": "HGYV1ODeHKuc"
      },
      "outputs": [],
      "source": [
        "# 3.9 It is already known that hackers have broken into the dataset and messed up the \"Exportacao\" table \n",
        "  # After checking all columns, Date format were found to be wrong on \"Order Date\" and \"Ship Date\" columns\n",
        "  \n",
        "sql_query1 = sqldf(\"SELECT distinct [Order Date]  FROM df_exportacao \")\n",
        "sql_query1.head()\n"
      ]
    },
    {
      "cell_type": "code",
      "execution_count": null,
      "metadata": {
        "id": "TJe2tV6dMXzQ"
      },
      "outputs": [],
      "source": [
        "# 3.10 As you can see there are Order ID duplicates. Basically, hackers have duplicated some orders and messed up dates\n",
        "\n",
        "sql_query2 = \"SELECT count ([Order ID]) FROM df_exportacao GROUP by [Order ID] \"\n",
        "print(ps.sqldf(sql_query2, locals()))"
      ]
    },
    {
      "cell_type": "code",
      "execution_count": 13,
      "metadata": {
        "id": "HC9CfbvkoI6t"
      },
      "outputs": [],
      "source": [
        "# 3.11 Putting the Order Date column into the righ format. With this, we'll fix the fris problem.\n",
        "df_exportacao['Order_date_check'] = pd.to_datetime(df_exportacao['Order Date'], format='%m/%d/%Y', errors='coerce').fillna(pd.to_datetime(df_exportacao['Order Date'], format='%m/%d/%Y', errors='coerce')).astype(str)\n",
        "df_exportacao['Ship_Date_check'] = pd.to_datetime(df_exportacao['Ship Date'], format='%m/%d/%Y', errors='coerce').fillna(pd.to_datetime(df_exportacao['Ship Date'], format='%m/%d/%Y', errors='coerce')).astype(str)\n"
      ]
    },
    {
      "cell_type": "code",
      "source": [
        "# 3.12 Getting all the main datadrame treated - this is the main SQL dataframe we're sending to Goole Sheets/Google Data Studio\n",
        "\n",
        "sql_query_0 = sqldf(\"\"\"\n",
        "                        SELECT\n",
        "                              *\n",
        "                        FROM df_exportacao e\n",
        "                        WHERE Order_date_check = (SELECT MIN(Order_date_check) FROM df_exportacao ee WHERE e.[Order ID]= ee.[Order ID])                              \n",
        "                   \"\"\")\n"
      ],
      "metadata": {
        "id": "2zDNsKAivk63"
      },
      "execution_count": 14,
      "outputs": []
    },
    {
      "cell_type": "markdown",
      "metadata": {
        "id": "2zs6dImhF96m"
      },
      "source": [
        "4.0 SQL QUERIES AND PROBLEM SOLVING\n",
        "\n",
        "---\n",
        "\n"
      ]
    },
    {
      "cell_type": "markdown",
      "metadata": {
        "id": "Qvenjibqmx4i"
      },
      "source": [
        " 4.1 \"Traga um relatório completo da divergência existente\""
      ]
    },
    {
      "cell_type": "code",
      "execution_count": 39,
      "metadata": {
        "colab": {
          "base_uri": "https://localhost:8080/",
          "height": 81
        },
        "id": "pvDd8Qg0tGy2",
        "outputId": "ecf029c9-2fbd-463b-d142-4bcc1ab33872"
      },
      "outputs": [
        {
          "output_type": "execute_result",
          "data": {
            "text/plain": [
              "   Contagem_unica_IDs  Contagem_total_IDs  Contagem_IDs_duplicados\n",
              "0               10000               10429                      429"
            ],
            "text/html": [
              "\n",
              "  <div id=\"df-3d230f9b-4a03-4290-888e-c4fb18150bdf\">\n",
              "    <div class=\"colab-df-container\">\n",
              "      <div>\n",
              "<style scoped>\n",
              "    .dataframe tbody tr th:only-of-type {\n",
              "        vertical-align: middle;\n",
              "    }\n",
              "\n",
              "    .dataframe tbody tr th {\n",
              "        vertical-align: top;\n",
              "    }\n",
              "\n",
              "    .dataframe thead th {\n",
              "        text-align: right;\n",
              "    }\n",
              "</style>\n",
              "<table border=\"1\" class=\"dataframe\">\n",
              "  <thead>\n",
              "    <tr style=\"text-align: right;\">\n",
              "      <th></th>\n",
              "      <th>Contagem_unica_IDs</th>\n",
              "      <th>Contagem_total_IDs</th>\n",
              "      <th>Contagem_IDs_duplicados</th>\n",
              "    </tr>\n",
              "  </thead>\n",
              "  <tbody>\n",
              "    <tr>\n",
              "      <th>0</th>\n",
              "      <td>10000</td>\n",
              "      <td>10429</td>\n",
              "      <td>429</td>\n",
              "    </tr>\n",
              "  </tbody>\n",
              "</table>\n",
              "</div>\n",
              "      <button class=\"colab-df-convert\" onclick=\"convertToInteractive('df-3d230f9b-4a03-4290-888e-c4fb18150bdf')\"\n",
              "              title=\"Convert this dataframe to an interactive table.\"\n",
              "              style=\"display:none;\">\n",
              "        \n",
              "  <svg xmlns=\"http://www.w3.org/2000/svg\" height=\"24px\"viewBox=\"0 0 24 24\"\n",
              "       width=\"24px\">\n",
              "    <path d=\"M0 0h24v24H0V0z\" fill=\"none\"/>\n",
              "    <path d=\"M18.56 5.44l.94 2.06.94-2.06 2.06-.94-2.06-.94-.94-2.06-.94 2.06-2.06.94zm-11 1L8.5 8.5l.94-2.06 2.06-.94-2.06-.94L8.5 2.5l-.94 2.06-2.06.94zm10 10l.94 2.06.94-2.06 2.06-.94-2.06-.94-.94-2.06-.94 2.06-2.06.94z\"/><path d=\"M17.41 7.96l-1.37-1.37c-.4-.4-.92-.59-1.43-.59-.52 0-1.04.2-1.43.59L10.3 9.45l-7.72 7.72c-.78.78-.78 2.05 0 2.83L4 21.41c.39.39.9.59 1.41.59.51 0 1.02-.2 1.41-.59l7.78-7.78 2.81-2.81c.8-.78.8-2.07 0-2.86zM5.41 20L4 18.59l7.72-7.72 1.47 1.35L5.41 20z\"/>\n",
              "  </svg>\n",
              "      </button>\n",
              "      \n",
              "  <style>\n",
              "    .colab-df-container {\n",
              "      display:flex;\n",
              "      flex-wrap:wrap;\n",
              "      gap: 12px;\n",
              "    }\n",
              "\n",
              "    .colab-df-convert {\n",
              "      background-color: #E8F0FE;\n",
              "      border: none;\n",
              "      border-radius: 50%;\n",
              "      cursor: pointer;\n",
              "      display: none;\n",
              "      fill: #1967D2;\n",
              "      height: 32px;\n",
              "      padding: 0 0 0 0;\n",
              "      width: 32px;\n",
              "    }\n",
              "\n",
              "    .colab-df-convert:hover {\n",
              "      background-color: #E2EBFA;\n",
              "      box-shadow: 0px 1px 2px rgba(60, 64, 67, 0.3), 0px 1px 3px 1px rgba(60, 64, 67, 0.15);\n",
              "      fill: #174EA6;\n",
              "    }\n",
              "\n",
              "    [theme=dark] .colab-df-convert {\n",
              "      background-color: #3B4455;\n",
              "      fill: #D2E3FC;\n",
              "    }\n",
              "\n",
              "    [theme=dark] .colab-df-convert:hover {\n",
              "      background-color: #434B5C;\n",
              "      box-shadow: 0px 1px 3px 1px rgba(0, 0, 0, 0.15);\n",
              "      filter: drop-shadow(0px 1px 2px rgba(0, 0, 0, 0.3));\n",
              "      fill: #FFFFFF;\n",
              "    }\n",
              "  </style>\n",
              "\n",
              "      <script>\n",
              "        const buttonEl =\n",
              "          document.querySelector('#df-3d230f9b-4a03-4290-888e-c4fb18150bdf button.colab-df-convert');\n",
              "        buttonEl.style.display =\n",
              "          google.colab.kernel.accessAllowed ? 'block' : 'none';\n",
              "\n",
              "        async function convertToInteractive(key) {\n",
              "          const element = document.querySelector('#df-3d230f9b-4a03-4290-888e-c4fb18150bdf');\n",
              "          const dataTable =\n",
              "            await google.colab.kernel.invokeFunction('convertToInteractive',\n",
              "                                                     [key], {});\n",
              "          if (!dataTable) return;\n",
              "\n",
              "          const docLinkHtml = 'Like what you see? Visit the ' +\n",
              "            '<a target=\"_blank\" href=https://colab.research.google.com/notebooks/data_table.ipynb>data table notebook</a>'\n",
              "            + ' to learn more about interactive tables.';\n",
              "          element.innerHTML = '';\n",
              "          dataTable['output_type'] = 'display_data';\n",
              "          await google.colab.output.renderOutput(dataTable, element);\n",
              "          const docLink = document.createElement('div');\n",
              "          docLink.innerHTML = docLinkHtml;\n",
              "          element.appendChild(docLink);\n",
              "        }\n",
              "      </script>\n",
              "    </div>\n",
              "  </div>\n",
              "  "
            ]
          },
          "metadata": {},
          "execution_count": 39
        }
      ],
      "source": [
        "# 4.1.1 Counting how many Order IDs were duplicated\n",
        "sql_query3 = sqldf( \"\"\"            \n",
        "            SELECT \n",
        "                  count(distinct [Order ID]) As Contagem_unica_IDs,\n",
        "                  count([Order ID]) As Contagem_total_IDs,\n",
        "                  (count([Order ID]) -count(distinct [Order ID])) As Contagem_IDs_duplicados\n",
        "            FROM  df_exportacao         \n",
        "             \"\"\")\n",
        "sql_query3.head()\n",
        "\n",
        "# RESUMO: 429 IDs foram duplicados resultando no aumento total de pedidos. O número correto seriam de 10.000 pedidos e não 10.429"
      ]
    },
    {
      "cell_type": "code",
      "execution_count": 38,
      "metadata": {
        "id": "73jgw5xTp78H",
        "colab": {
          "base_uri": "https://localhost:8080/",
          "height": 81
        },
        "outputId": "5acaf70c-76d2-4b76-b510-b00c1b0dc596"
      },
      "outputs": [
        {
          "output_type": "execute_result",
          "data": {
            "text/plain": [
              "   Country                             Region Item_Type Sales Channel  \\\n",
              "0  Grenada  Central America and the Caribbean    Cereal        Online   \n",
              "\n",
              "   volume_receita_errada  Volume_unidades_erradas  Volume_divergências  \n",
              "0            160828520.0                  2162698                  429  "
            ],
            "text/html": [
              "\n",
              "  <div id=\"df-26dde89e-65f9-433f-8f0d-da609e008bd3\">\n",
              "    <div class=\"colab-df-container\">\n",
              "      <div>\n",
              "<style scoped>\n",
              "    .dataframe tbody tr th:only-of-type {\n",
              "        vertical-align: middle;\n",
              "    }\n",
              "\n",
              "    .dataframe tbody tr th {\n",
              "        vertical-align: top;\n",
              "    }\n",
              "\n",
              "    .dataframe thead th {\n",
              "        text-align: right;\n",
              "    }\n",
              "</style>\n",
              "<table border=\"1\" class=\"dataframe\">\n",
              "  <thead>\n",
              "    <tr style=\"text-align: right;\">\n",
              "      <th></th>\n",
              "      <th>Country</th>\n",
              "      <th>Region</th>\n",
              "      <th>Item_Type</th>\n",
              "      <th>Sales Channel</th>\n",
              "      <th>volume_receita_errada</th>\n",
              "      <th>Volume_unidades_erradas</th>\n",
              "      <th>Volume_divergências</th>\n",
              "    </tr>\n",
              "  </thead>\n",
              "  <tbody>\n",
              "    <tr>\n",
              "      <th>0</th>\n",
              "      <td>Grenada</td>\n",
              "      <td>Central America and the Caribbean</td>\n",
              "      <td>Cereal</td>\n",
              "      <td>Online</td>\n",
              "      <td>160828520.0</td>\n",
              "      <td>2162698</td>\n",
              "      <td>429</td>\n",
              "    </tr>\n",
              "  </tbody>\n",
              "</table>\n",
              "</div>\n",
              "      <button class=\"colab-df-convert\" onclick=\"convertToInteractive('df-26dde89e-65f9-433f-8f0d-da609e008bd3')\"\n",
              "              title=\"Convert this dataframe to an interactive table.\"\n",
              "              style=\"display:none;\">\n",
              "        \n",
              "  <svg xmlns=\"http://www.w3.org/2000/svg\" height=\"24px\"viewBox=\"0 0 24 24\"\n",
              "       width=\"24px\">\n",
              "    <path d=\"M0 0h24v24H0V0z\" fill=\"none\"/>\n",
              "    <path d=\"M18.56 5.44l.94 2.06.94-2.06 2.06-.94-2.06-.94-.94-2.06-.94 2.06-2.06.94zm-11 1L8.5 8.5l.94-2.06 2.06-.94-2.06-.94L8.5 2.5l-.94 2.06-2.06.94zm10 10l.94 2.06.94-2.06 2.06-.94-2.06-.94-.94-2.06-.94 2.06-2.06.94z\"/><path d=\"M17.41 7.96l-1.37-1.37c-.4-.4-.92-.59-1.43-.59-.52 0-1.04.2-1.43.59L10.3 9.45l-7.72 7.72c-.78.78-.78 2.05 0 2.83L4 21.41c.39.39.9.59 1.41.59.51 0 1.02-.2 1.41-.59l7.78-7.78 2.81-2.81c.8-.78.8-2.07 0-2.86zM5.41 20L4 18.59l7.72-7.72 1.47 1.35L5.41 20z\"/>\n",
              "  </svg>\n",
              "      </button>\n",
              "      \n",
              "  <style>\n",
              "    .colab-df-container {\n",
              "      display:flex;\n",
              "      flex-wrap:wrap;\n",
              "      gap: 12px;\n",
              "    }\n",
              "\n",
              "    .colab-df-convert {\n",
              "      background-color: #E8F0FE;\n",
              "      border: none;\n",
              "      border-radius: 50%;\n",
              "      cursor: pointer;\n",
              "      display: none;\n",
              "      fill: #1967D2;\n",
              "      height: 32px;\n",
              "      padding: 0 0 0 0;\n",
              "      width: 32px;\n",
              "    }\n",
              "\n",
              "    .colab-df-convert:hover {\n",
              "      background-color: #E2EBFA;\n",
              "      box-shadow: 0px 1px 2px rgba(60, 64, 67, 0.3), 0px 1px 3px 1px rgba(60, 64, 67, 0.15);\n",
              "      fill: #174EA6;\n",
              "    }\n",
              "\n",
              "    [theme=dark] .colab-df-convert {\n",
              "      background-color: #3B4455;\n",
              "      fill: #D2E3FC;\n",
              "    }\n",
              "\n",
              "    [theme=dark] .colab-df-convert:hover {\n",
              "      background-color: #434B5C;\n",
              "      box-shadow: 0px 1px 3px 1px rgba(0, 0, 0, 0.15);\n",
              "      filter: drop-shadow(0px 1px 2px rgba(0, 0, 0, 0.3));\n",
              "      fill: #FFFFFF;\n",
              "    }\n",
              "  </style>\n",
              "\n",
              "      <script>\n",
              "        const buttonEl =\n",
              "          document.querySelector('#df-26dde89e-65f9-433f-8f0d-da609e008bd3 button.colab-df-convert');\n",
              "        buttonEl.style.display =\n",
              "          google.colab.kernel.accessAllowed ? 'block' : 'none';\n",
              "\n",
              "        async function convertToInteractive(key) {\n",
              "          const element = document.querySelector('#df-26dde89e-65f9-433f-8f0d-da609e008bd3');\n",
              "          const dataTable =\n",
              "            await google.colab.kernel.invokeFunction('convertToInteractive',\n",
              "                                                     [key], {});\n",
              "          if (!dataTable) return;\n",
              "\n",
              "          const docLinkHtml = 'Like what you see? Visit the ' +\n",
              "            '<a target=\"_blank\" href=https://colab.research.google.com/notebooks/data_table.ipynb>data table notebook</a>'\n",
              "            + ' to learn more about interactive tables.';\n",
              "          element.innerHTML = '';\n",
              "          dataTable['output_type'] = 'display_data';\n",
              "          await google.colab.output.renderOutput(dataTable, element);\n",
              "          const docLink = document.createElement('div');\n",
              "          docLink.innerHTML = docLinkHtml;\n",
              "          element.appendChild(docLink);\n",
              "        }\n",
              "      </script>\n",
              "    </div>\n",
              "  </div>\n",
              "  "
            ]
          },
          "metadata": {},
          "execution_count": 38
        }
      ],
      "source": [
        "# 4.1.2 Duplicated gathered by Country, Region, Item_Type, Sales Channel\n",
        "sql_query4 = sqldf( \"\"\"\n",
        "             WITH duplication As (\n",
        "                SELECT \n",
        "                      [Order ID],\n",
        "                      ID_type,\n",
        "                      ID_Region,\n",
        "                      ID_Country,\n",
        "                      [Sales Channel],\n",
        "                      Receita, \n",
        "                      COUNT([Order ID]) As Is_duplicated,\n",
        "                      [Units Sold]\n",
        "                FROM df_exportacao\n",
        "                GROUP by 1)\n",
        "\n",
        "             SELECT \n",
        "                  \n",
        "                  c.Country,\n",
        "                  r.Region,\n",
        "                  t.Item_Type,\n",
        "                  d.[Sales Channel],\n",
        "                  SUM(Receita) As volume_receita_errada,\n",
        "                  SUM([Units Sold]) As Volume_unidades_erradas,\n",
        "                  COUNT([Order ID]) As Volume_divergências                              \n",
        "             FROM duplication d\n",
        "             LEFT join df_type t ON d.ID_type = t.ID_Type\n",
        "             LEFT join df_region r ON d.ID_Region = r.ID_Region \n",
        "             LEFT join df_country c ON d.ID_Country = c.ID_Country                \n",
        "             WHERE Is_duplicated = 2 \n",
        "             ORDER by 1, 2, 3, 4                       \n",
        "             \"\"\")\n",
        "\n",
        "sql_query4.head()\n",
        "\n",
        "# RESUMO: Os pedidos duplicados encontram-se todos concentrados em um país: Grenada. Além disso, com essa invasão, foram adicionadas\n",
        "# erroneamente na tabela cerca de 2162698\tunidades de cereal a mais. Caso esta invasão hacker não tivesse sido detectada, a receita\n",
        "# no caixa da empresa estaria inflada em  160828520.0 US$"
      ]
    },
    {
      "cell_type": "code",
      "source": [
        "# 4.1.3 There's also errors on both date columns\n",
        "\n",
        "sql_query_date_1 = sqldf(\"SELECT distinct [Order Date]  FROM df_exportacao \")\n",
        "sql_query_date_1.head()\n",
        "\n",
        "# RESUMO: É possível verifica que há troca de mês e dia na base de dados, coluna Order Date. "
      ],
      "metadata": {
        "id": "U6TopqvrWeJC"
      },
      "execution_count": null,
      "outputs": []
    },
    {
      "cell_type": "code",
      "source": [
        "# 4.1.4 There's also errors on both date columns\n",
        "\n",
        "sql_query_date_2 = sqldf(\"SELECT distinct [Ship Date]  FROM df_exportacao \")\n",
        "sql_query_date_2.head()\n",
        "\n",
        "# RESUMO: É possível verifica que há troca de mês e dia na base de dados, coluna Order Date."
      ],
      "metadata": {
        "id": "pftNcHBSXBjX"
      },
      "execution_count": null,
      "outputs": []
    },
    {
      "cell_type": "code",
      "execution_count": null,
      "metadata": {
        "id": "6HXjyLf5JCQh"
      },
      "outputs": [],
      "source": [
        "# 4.1.5 So, this is de real dataset, without the duplicates\n",
        "sql_query5 = sqldf(\"\"\"\n",
        "              WITH cte_a As(\n",
        "                SELECT \n",
        "                      [Order ID],\n",
        "                      Order_date_check\n",
        "                FROM df_exportacao\n",
        "              )\n",
        "              \n",
        "              SELECT \n",
        "                    [ORDER ID],\n",
        "                    Order_date_check\n",
        "              FROM df_exportacao e\n",
        "              WHERE Order_date_check = (SELECT MIN(Order_date_check) FROM df_exportacao ee WHERE e.[Order ID]= ee.[Order ID])\n",
        "\n",
        "             \"\"\")\n",
        "\n",
        "sql_query5.head()\n",
        "\n",
        "\n",
        "# RESUMO: esse seria a base de dados correta, sem os 429 registros duplicados."
      ]
    },
    {
      "cell_type": "markdown",
      "source": [
        "4.2 Perguntas"
      ],
      "metadata": {
        "id": "mb4mD1mBUspi"
      }
    },
    {
      "cell_type": "code",
      "source": [
        "# 1- Analisando ano a ano (2010,2011...), qual foi o item que mais teve ordem de pedidos emitidos (Order_ID) no mês de abril ao longo dos anos?\n",
        "  # Mostrando apenas o que foi pedido na pergunta.\n",
        "query_questao_um_short = sqldf(\"\"\"\n",
        "                            WITH CTE_1 As (                           \n",
        "                              SELECT\n",
        "                                    strftime('%Y', Order_date_check) As Ano_pedido,                                    \n",
        "                                    t.Item_Type As type,\n",
        "                                    count([Order ID]) As volume_pedidos\n",
        "                              FROM df_exportacao e\n",
        "                              LEFT join df_type t ON e.ID_Type = t.ID_Type\n",
        "                              WHERE strftime('%m', Order_date_check) = '04'\n",
        "                                    and Order_date_check = (SELECT MIN(Order_date_check) FROM df_exportacao ee WHERE e.[Order ID]= ee.[Order ID])\n",
        "                              GROUP by 1, 2\n",
        "                              ORDER by 1 desc)\n",
        "\n",
        "                              SELECT \n",
        "                                    type,\n",
        "                                    SUM(volume_pedidos)                                    \n",
        "                              FROM CTE_1                               \n",
        "                              GROUP by 1 \n",
        "                              ORDER by 2 desc\n",
        "                              LIMIT 1                \n",
        "                        \"\"\")\n",
        "\n",
        "#query_questao_um.pivot_table(index='type', columns='Ano_pedido', values='volume_pedidos', aggfunc='sum', fill_value=0, margins=True)\n",
        "\n",
        "query_questao_um_short.head()\n"
      ],
      "metadata": {
        "id": "cN_BB7VEUxkj"
      },
      "execution_count": null,
      "outputs": []
    },
    {
      "cell_type": "code",
      "source": [
        "# 1- Analisando ano a ano (2010,2011...), qual foi o item que mais teve ordem de pedidos emitidos (Order_ID) no mês de abril ao longo dos anos?\n",
        "  # Mostrando agora o que foi pedido acima e colocando também as demais categorias de item para ficar legal a comparação.\n",
        "query_questao_um_open = sqldf(\"\"\"                                                      \n",
        "                              SELECT\n",
        "                                    strftime('%Y', Order_date_check) As Ano_pedido,                                    \n",
        "                                    t.Item_Type As type,\n",
        "                                    count([Order ID]) As volume_pedidos\n",
        "                              FROM df_exportacao e\n",
        "                              LEFT join df_type t ON e.ID_Type = t.ID_Type\n",
        "                              WHERE strftime('%m', Order_date_check) = '04'\n",
        "                                    and Order_date_check = (SELECT MIN(Order_date_check) FROM df_exportacao ee WHERE e.[Order ID]= ee.[Order ID])\n",
        "                              GROUP by 1, 2\n",
        "                              ORDER by 1 desc\n",
        "                                         \n",
        "                        \"\"\")\n",
        "\n",
        "query_questao_um_open.pivot_table(index='type', columns='Ano_pedido', values='volume_pedidos', aggfunc='sum', fill_value=0, margins=True)\n",
        "\n",
        "\n"
      ],
      "metadata": {
        "id": "GU6Y6PPgcN0e"
      },
      "execution_count": null,
      "outputs": []
    },
    {
      "cell_type": "code",
      "source": [
        "# 2- Qual foi o país com o maior faturamento da Ásia no ano de 2017.\n",
        "\n",
        "query_questao_dois = sqldf(\"\"\"\n",
        "                              SELECT\n",
        "                                    c.Country,                                                                        \n",
        "                                    SUM(faturamento) As faturamento            \n",
        "                              FROM df_exportacao e \n",
        "                              LEFT join df_country c ON e.ID_Country = c.ID_Country\n",
        "                              LEFT join df_region r ON e.ID_Region = r.ID_Region\n",
        "                              WHERE r.Region = 'Asia'\n",
        "                                    and strftime('%Y', Order_date_check) = '2017'\n",
        "                                    and Order_date_check = (SELECT MIN(Order_date_check) FROM df_exportacao ee WHERE e.[Order ID]= ee.[Order ID])\n",
        "                              GROUP by 1\n",
        "                              ORDER by 2 desc\n",
        "                              LIMIT 1\n",
        "                           \"\"\")\n",
        "\n",
        "query_questao_dois.pivot_table(index='Country', values='faturamento', fill_value=0).sort_values( by='faturamento', ascending=False)"
      ],
      "metadata": {
        "id": "cacXsWUjYOY3"
      },
      "execution_count": null,
      "outputs": []
    },
    {
      "cell_type": "code",
      "source": [
        "# 3- Qual foi o país com o maior custo da Ásia no ano de 2014.\n",
        "\n",
        "query_questao_tres = sqldf (\"\"\"\n",
        "                             SELECT\n",
        "                                    c.Country,                                                                        \n",
        "                                    SUM(Custos) As Custos            \n",
        "                              FROM df_exportacao e \n",
        "                              LEFT join df_country c ON e.ID_Country = c.ID_Country\n",
        "                              LEFT join df_region r ON e.ID_Region = r.ID_Region\n",
        "                              WHERE r.Region = 'Asia'\n",
        "                                    and strftime('%Y', Order_date_check) = '2014'\n",
        "                                    and Order_date_check = (SELECT MIN(Order_date_check) FROM df_exportacao ee WHERE e.[Order ID]= ee.[Order ID])\n",
        "                              GROUP by 1\n",
        "                              ORDER by 2 desc\n",
        "                              LIMIT 1\n",
        "                            \"\"\")\n",
        "\n",
        "query_questao_tres.pivot_table(index='Country', values='Custos', fill_value=0).sort_values( by='Custos', ascending=False)"
      ],
      "metadata": {
        "id": "OAHu0P-eczqG"
      },
      "execution_count": null,
      "outputs": []
    },
    {
      "cell_type": "code",
      "source": [
        "# 4- Qual foi o país com a maior Receita da Ásia no ano de 2012.\n",
        "query_questao_quatro = sqldf (\"\"\"\n",
        "                             SELECT\n",
        "                                    c.Country,                                                                        \n",
        "                                    SUM(Receita) As Receita            \n",
        "                              FROM df_exportacao e \n",
        "                              LEFT join df_country c ON e.ID_Country = c.ID_Country\n",
        "                              LEFT join df_region r ON e.ID_Region = r.ID_Region\n",
        "                              WHERE r.Region = 'Asia'\n",
        "                                    and strftime('%Y', Order_date_check) = '2012'\n",
        "                                    and Order_date_check = (SELECT MIN(Order_date_check) FROM df_exportacao ee WHERE e.[Order ID]= ee.[Order ID])\n",
        "                              GROUP by 1\n",
        "                              ORDER by 2 desc\n",
        "                              LIMIT 1\n",
        "                            \"\"\")\n",
        "\n",
        "query_questao_quatro.pivot_table(index='Country', values='Receita', fill_value=0).sort_values( by='Receita', ascending=False)\n"
      ],
      "metadata": {
        "id": "yMewU3rRg7bu"
      },
      "execution_count": null,
      "outputs": []
    },
    {
      "cell_type": "code",
      "source": [
        "# 5- A área de produtos precisa de algumas informações vitais para a manutenção do portifólio. Qual o tipo de produto mais vendido (Units_Sold) na somatória de todos os anos?\n",
        "\n",
        "query_questao_cinco = sqldf(\"\"\"\n",
        "                              SELECT                                                                     \n",
        "                                    t.Item_Type As type,\n",
        "                                    SUM([Units Sold]) As volume_pedidos_vendidos\n",
        "                              FROM df_exportacao e\n",
        "                              LEFT join df_type t ON e.ID_Type = t.ID_Type\n",
        "                              WHERE Order_date_check = (SELECT MIN(Order_date_check) FROM df_exportacao ee WHERE e.[Order ID]= ee.[Order ID])\n",
        "                              GROUP by 1\n",
        "                              LIMIT 1\n",
        "                        \"\"\")\n",
        "\n",
        "query_questao_cinco.pivot_table(index='type', fill_value=0).sort_values( by='volume_pedidos_vendidos', ascending=False)\n"
      ],
      "metadata": {
        "id": "YHUVP6mUhZQK",
        "colab": {
          "base_uri": "https://localhost:8080/",
          "height": 112
        },
        "outputId": "23d5ec45-ba4b-4d1b-ca53-31329f7ebf1c"
      },
      "execution_count": 60,
      "outputs": [
        {
          "output_type": "execute_result",
          "data": {
            "text/plain": [
              "           volume_pedidos_vendidos\n",
              "type                              \n",
              "Baby Food                  4146333"
            ],
            "text/html": [
              "\n",
              "  <div id=\"df-b6491f44-484f-4ec8-8c21-b9c1ef2f18aa\">\n",
              "    <div class=\"colab-df-container\">\n",
              "      <div>\n",
              "<style scoped>\n",
              "    .dataframe tbody tr th:only-of-type {\n",
              "        vertical-align: middle;\n",
              "    }\n",
              "\n",
              "    .dataframe tbody tr th {\n",
              "        vertical-align: top;\n",
              "    }\n",
              "\n",
              "    .dataframe thead th {\n",
              "        text-align: right;\n",
              "    }\n",
              "</style>\n",
              "<table border=\"1\" class=\"dataframe\">\n",
              "  <thead>\n",
              "    <tr style=\"text-align: right;\">\n",
              "      <th></th>\n",
              "      <th>volume_pedidos_vendidos</th>\n",
              "    </tr>\n",
              "    <tr>\n",
              "      <th>type</th>\n",
              "      <th></th>\n",
              "    </tr>\n",
              "  </thead>\n",
              "  <tbody>\n",
              "    <tr>\n",
              "      <th>Baby Food</th>\n",
              "      <td>4146333</td>\n",
              "    </tr>\n",
              "  </tbody>\n",
              "</table>\n",
              "</div>\n",
              "      <button class=\"colab-df-convert\" onclick=\"convertToInteractive('df-b6491f44-484f-4ec8-8c21-b9c1ef2f18aa')\"\n",
              "              title=\"Convert this dataframe to an interactive table.\"\n",
              "              style=\"display:none;\">\n",
              "        \n",
              "  <svg xmlns=\"http://www.w3.org/2000/svg\" height=\"24px\"viewBox=\"0 0 24 24\"\n",
              "       width=\"24px\">\n",
              "    <path d=\"M0 0h24v24H0V0z\" fill=\"none\"/>\n",
              "    <path d=\"M18.56 5.44l.94 2.06.94-2.06 2.06-.94-2.06-.94-.94-2.06-.94 2.06-2.06.94zm-11 1L8.5 8.5l.94-2.06 2.06-.94-2.06-.94L8.5 2.5l-.94 2.06-2.06.94zm10 10l.94 2.06.94-2.06 2.06-.94-2.06-.94-.94-2.06-.94 2.06-2.06.94z\"/><path d=\"M17.41 7.96l-1.37-1.37c-.4-.4-.92-.59-1.43-.59-.52 0-1.04.2-1.43.59L10.3 9.45l-7.72 7.72c-.78.78-.78 2.05 0 2.83L4 21.41c.39.39.9.59 1.41.59.51 0 1.02-.2 1.41-.59l7.78-7.78 2.81-2.81c.8-.78.8-2.07 0-2.86zM5.41 20L4 18.59l7.72-7.72 1.47 1.35L5.41 20z\"/>\n",
              "  </svg>\n",
              "      </button>\n",
              "      \n",
              "  <style>\n",
              "    .colab-df-container {\n",
              "      display:flex;\n",
              "      flex-wrap:wrap;\n",
              "      gap: 12px;\n",
              "    }\n",
              "\n",
              "    .colab-df-convert {\n",
              "      background-color: #E8F0FE;\n",
              "      border: none;\n",
              "      border-radius: 50%;\n",
              "      cursor: pointer;\n",
              "      display: none;\n",
              "      fill: #1967D2;\n",
              "      height: 32px;\n",
              "      padding: 0 0 0 0;\n",
              "      width: 32px;\n",
              "    }\n",
              "\n",
              "    .colab-df-convert:hover {\n",
              "      background-color: #E2EBFA;\n",
              "      box-shadow: 0px 1px 2px rgba(60, 64, 67, 0.3), 0px 1px 3px 1px rgba(60, 64, 67, 0.15);\n",
              "      fill: #174EA6;\n",
              "    }\n",
              "\n",
              "    [theme=dark] .colab-df-convert {\n",
              "      background-color: #3B4455;\n",
              "      fill: #D2E3FC;\n",
              "    }\n",
              "\n",
              "    [theme=dark] .colab-df-convert:hover {\n",
              "      background-color: #434B5C;\n",
              "      box-shadow: 0px 1px 3px 1px rgba(0, 0, 0, 0.15);\n",
              "      filter: drop-shadow(0px 1px 2px rgba(0, 0, 0, 0.3));\n",
              "      fill: #FFFFFF;\n",
              "    }\n",
              "  </style>\n",
              "\n",
              "      <script>\n",
              "        const buttonEl =\n",
              "          document.querySelector('#df-b6491f44-484f-4ec8-8c21-b9c1ef2f18aa button.colab-df-convert');\n",
              "        buttonEl.style.display =\n",
              "          google.colab.kernel.accessAllowed ? 'block' : 'none';\n",
              "\n",
              "        async function convertToInteractive(key) {\n",
              "          const element = document.querySelector('#df-b6491f44-484f-4ec8-8c21-b9c1ef2f18aa');\n",
              "          const dataTable =\n",
              "            await google.colab.kernel.invokeFunction('convertToInteractive',\n",
              "                                                     [key], {});\n",
              "          if (!dataTable) return;\n",
              "\n",
              "          const docLinkHtml = 'Like what you see? Visit the ' +\n",
              "            '<a target=\"_blank\" href=https://colab.research.google.com/notebooks/data_table.ipynb>data table notebook</a>'\n",
              "            + ' to learn more about interactive tables.';\n",
              "          element.innerHTML = '';\n",
              "          dataTable['output_type'] = 'display_data';\n",
              "          await google.colab.output.renderOutput(dataTable, element);\n",
              "          const docLink = document.createElement('div');\n",
              "          docLink.innerHTML = docLinkHtml;\n",
              "          element.appendChild(docLink);\n",
              "        }\n",
              "      </script>\n",
              "    </div>\n",
              "  </div>\n",
              "  "
            ]
          },
          "metadata": {},
          "execution_count": 60
        }
      ]
    },
    {
      "cell_type": "markdown",
      "metadata": {
        "id": "uuUyqusWqD6H"
      },
      "source": [
        "5.0 SENDING DATA TO GOOGLE SHEETS "
      ]
    },
    {
      "cell_type": "code",
      "execution_count": 23,
      "metadata": {
        "id": "kfCsENmR_4eT"
      },
      "outputs": [],
      "source": [
        "# 4.1 Getting all permissions to send data to Google Sheets\n",
        "from google.colab import auth\n",
        "auth.authenticate_user()\n",
        "\n",
        "import gspread\n",
        "from google.auth import default\n",
        "creds, _ = default()\n",
        "\n",
        "gc = gspread.authorize(creds)\n",
        "wb = gc.open_by_key('190DYU0m_SFqv-8SQ0mTIXImsMS2msHQDjQXeoGhfcTk')"
      ]
    },
    {
      "cell_type": "code",
      "execution_count": null,
      "metadata": {
        "id": "_EApb0dm9BDF"
      },
      "outputs": [],
      "source": [
        "!pip install --upgrade gspread"
      ]
    },
    {
      "cell_type": "code",
      "execution_count": null,
      "metadata": {
        "id": "qsHfQhkx7hfH"
      },
      "outputs": [],
      "source": [
        "# 4.2 Populating the REGION worksheet on Google Sheets\n",
        "\n",
        "ws = wb.worksheet('Country')\n",
        "cabecalho_country = ['Country', 'ID_Country'] \n",
        "todos_registros_country = [cabecalho_country] + df_country.to_numpy().tolist()\n",
        "ws.update(None, todos_registros_country)\n"
      ]
    },
    {
      "cell_type": "code",
      "execution_count": null,
      "metadata": {
        "id": "k0OxkWBLAdX7"
      },
      "outputs": [],
      "source": [
        "# 4.3 Populating the COUNTRY worksheet on Google Sheets\n",
        "\n",
        "ws = wb.worksheet('Region')\n",
        "cabecalho_region = ['Region', '\tID_Region'] \n",
        "todos_registros_region = [cabecalho_region] + df_region.to_numpy().tolist()\n",
        "ws.update(None, todos_registros_region)\n"
      ]
    },
    {
      "cell_type": "code",
      "execution_count": null,
      "metadata": {
        "id": "vq3TZdrdCUjK"
      },
      "outputs": [],
      "source": [
        "# 4.4 Populating the TYPE worksheet on Google Sheets\n",
        "\n",
        "ws = wb.worksheet('Type')\n",
        "cabecalho_type = ['ID_Type', 'Item_Type']   \n",
        "todos_registros_type = [cabecalho_type] + df_type.to_numpy().tolist()\n",
        "ws.update(None, todos_registros_type)"
      ]
    },
    {
      "cell_type": "code",
      "execution_count": null,
      "metadata": {
        "id": "G2j3oQinDK6-"
      },
      "outputs": [],
      "source": [
        "# 4.5 Populating the EXPORTACAO worksheet on Google Sheets\n",
        "\n",
        "ws = wb.worksheet('Exportacao')\n",
        "cabecalho_exportacao = ['ID_Region', 'ID_Country',\t'ID_Type', 'Sales Channel', 'Order Priority', 'Order Date', 'Order ID',\t\n",
        "'Ship Date', 'Units Sold', 'Unit Price', 'Unit Cost',\t'Faturamento', 'Custos',\t'Receita', 'Order_date_check', 'Ship_Date_check']\n",
        "todos_registros_exportacao = [cabecalho_exportacao] + sql_query_0.to_numpy().tolist()\n",
        "ws.update(None, todos_registros_exportacao)"
      ]
    }
  ],
  "metadata": {
    "colab": {
      "collapsed_sections": [],
      "provenance": [],
      "authorship_tag": "ABX9TyPwFA5BDYZJGBP7Ae4+2quV",
      "include_colab_link": true
    },
    "kernelspec": {
      "display_name": "Python 3",
      "name": "python3"
    },
    "language_info": {
      "name": "python"
    }
  },
  "nbformat": 4,
  "nbformat_minor": 0
}